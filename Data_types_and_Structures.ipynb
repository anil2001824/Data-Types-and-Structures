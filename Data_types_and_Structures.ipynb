{
  "nbformat": 4,
  "nbformat_minor": 0,
  "metadata": {
    "colab": {
      "provenance": []
    },
    "kernelspec": {
      "name": "python3",
      "display_name": "Python 3"
    },
    "language_info": {
      "name": "python"
    }
  },
  "cells": [
    {
      "cell_type": "markdown",
      "source": [
        "**Data Types and Structures**\n",
        "\n",
        " 1. What are data structures, and why are they important ?\n",
        "    - Data structures are specific formats for organizing, storing, and processing data to facilitate efficient access and manipulation.\n",
        "    - They are important because they improve the performance of algorithms, enable efficient data management for large datasets, and are fundamental for building robust and scalable software applications.\n",
        "\n",
        " 2.  Explain the difference between mutable and immutable data types with      examples ?\n",
        "     - **Mutable Data Types**:\n",
        "      Mutable data types are those whose values can be modified in place after they are created. This means that operations performed on a mutable object can change its internal state without creating a new object in memory.\n",
        "\n",
        "       Examples : Lists, Dictionaries, Sets in Python.\n",
        "\n",
        "     - **Immutable Data Types:**\n",
        "       Immutable data types are those whose values cannot be changed after they are created. Any operation that appears to modify an immutable object actually results in the creation of a new object with the desired changes, leaving the original object unchanged.\n",
        "\n",
        "       Examples : Numbers (integers, floats), Strings, Tuples in Python.\n",
        "\n",
        " 3.  What are the main differences between lists and tuples in Python ?   \n",
        "     - **Lists**:\n",
        "            \n",
        "       i) Lists are mutable.\n",
        "             \n",
        "       ii) Lists are defined using square brackets [].\n",
        "\n",
        "       iii) Lists require more overhead due to the need to handle potential modifications like resizing and reallocating memory.\n",
        "\n",
        "       **Tuples:**\n",
        "\n",
        "       i) Tuples are immutable.\n",
        "\n",
        "       ii) Tuples are defined using parentheses ().\n",
        "\n",
        "       iii) Tuples are generally faster and more memory-efficient than lists, especially for large datasets.\n",
        "\n",
        " 4.   Describe how dictionaries store data ?\n",
        "      - Dictionaries in Python store data using a hash table structure.\n",
        "\n",
        "       1. **Key–Value Pairs**\n",
        "\n",
        "          * A dictionary stores data as pairs: {key: value}.\n",
        "\n",
        "               Example: {\"name\": \"Anil\", \"age\": 25}\n",
        "\n",
        "        2. **Hashing the Key**\n",
        "\n",
        "              * Every key in a dictionary must be hashable (immutable types like strings, numbers, tuples).\n",
        "\n",
        "              * When you insert a key, Python runs it through a hash function to produce a hash value (an integer).\n",
        "\n",
        "        3. **Indexing in a Table**\n",
        "\n",
        "              * The hash value is used to decide where to store the key–value pair in an internal array (bucket).This makes lookup very fast—on average O(1) time.\n",
        "\n",
        "        4.  **Handling Collisions**\n",
        "\n",
        "\n",
        "             * Sometimes two different keys produce the same hash index (a collision).\n",
        "\n",
        "              * Python resolves this by using open addressing: it looks for the next free slot in the table.\n",
        "\n",
        "        5. **Resizing**\n",
        "\n",
        "              * If the dictionary grows too full, Python automatically resizes the hash table to maintain efficiency.\n",
        "\n",
        "\n",
        "5.   Why might you use a set instead of a list in Python ?\n",
        "     - You might use a Python set instead of a list in the following scenarios:\n",
        "\n",
        "         *  **Ensuring Uniqueness** : Sets inherently store only unique elements. If you need a collection where duplicate values are not allowed, a set automatically handles this, eliminating the need for manual duplicate removal.\n",
        "\n",
        "        \n",
        "        \n",
        "\n",
        "\n",
        "\n",
        "\n",
        "\n",
        "\n",
        "\n",
        "\n",
        "\n",
        "\n",
        "\n",
        "\n",
        "        \n",
        "\n",
        "\n",
        "\n",
        "\n",
        "\n",
        "\n",
        "\n",
        "\n",
        "\n",
        "\n",
        "\n",
        "    \n",
        "       \n",
        "\n",
        "    \n"
      ],
      "metadata": {
        "id": "nY5biQQxL9Nq"
      }
    },
    {
      "cell_type": "code",
      "source": [
        "my_list = [1, 2, 2, 3, 4, 4, 5]\n",
        "unique_elements = set(my_list)\n",
        "print(unique_elements)"
      ],
      "metadata": {
        "colab": {
          "base_uri": "https://localhost:8080/"
        },
        "id": "lnZJJPuXYgEl",
        "outputId": "050bfbac-7a79-43af-9dbf-607621d187d0"
      },
      "execution_count": null,
      "outputs": [
        {
          "output_type": "stream",
          "name": "stdout",
          "text": [
            "{1, 2, 3, 4, 5}\n"
          ]
        }
      ]
    },
    {
      "cell_type": "markdown",
      "source": [
        "\n",
        " 6.   What is a string in Python, and how is it different from a list ?\n",
        "      - In Python, a string is an immutable sequence of characters, used to represent text. Strings are defined by enclosing the characters in single quotes ('...'), double quotes (\"...\"), or triple quotes ('''...''' or \"\"\"...\"\"\") for multi-line strings.\n",
        "\n",
        "        * my_string = \"Hello World!\"\n",
        "\n",
        "      - A list in Python is a mutable, ordered collection of items. Unlike strings, lists can contain items of different data types, and their elements can be modified after creation. Lists are defined by enclosing items in square brackets ([...]), with items separated by commas.\n",
        "\n",
        "         * my_list = [1, \"apple\" ,3.4 ,True]\n",
        "\n",
        " 7.   How do tuples ensure data integrity in Python ?\n",
        "      - Tuples in Python ensure data integrity primarily through their immutability. This means that once a tuple is created, its elements cannot be changed, added, or removed.\n",
        "\n",
        "          * Protection against accidental modification.\n",
        "\n",
        "          * Ensuring data consistency.\n",
        "\n",
        "          * Hashability for dictionary keys.\n",
        "\n",
        "          * Safer concurrent access.\n",
        "\n",
        " 8.  What is a hash table, and how does it relate to dictionaries in Python ?\n",
        "     - A hash table is a data structure that implements an associative array, also known as a dictionary or map.\n",
        "\n",
        "        * It stores data in key-value pairs, where each key is unique and maps to a specific value. The core idea behind a hash table is to use a hash function to convert a key into an index in an underlying array, allowing for efficient storage and retrieval of data.  \n",
        "\n",
        " 9.   Can lists contain different data types in Python ?\n",
        "      - Yes, a Python list can contain elements of different data types. This is a key feature of Python lists, making them very versatile.\n",
        "\n",
        "         For example, a single list can contain integers, strings, floats, booleans, and even other lists or complex objects.\n",
        "           "
      ],
      "metadata": {
        "id": "VVHlUun6YwgU"
      }
    },
    {
      "cell_type": "code",
      "source": [
        "my_list = [1, \"hello\", 3.14, True, [2, 4], {\"key\": \"value\"}]\n",
        "print(my_list)"
      ],
      "metadata": {
        "colab": {
          "base_uri": "https://localhost:8080/"
        },
        "id": "goD1-Mq3bwQq",
        "outputId": "09934bfb-3b50-410c-a633-9c9a91e2819d"
      },
      "execution_count": null,
      "outputs": [
        {
          "output_type": "stream",
          "name": "stdout",
          "text": [
            "[1, 'hello', 3.14, True, [2, 4], {'key': 'value'}]\n"
          ]
        }
      ]
    },
    {
      "cell_type": "markdown",
      "source": [
        " 10.   Explain why strings are immutable in Python ?\n",
        "       - Strings in Python are immutable, meaning once created, they cannot be changed. If you try to modify a string, Python actually creates a new string object instead of altering the original.\n",
        "\n",
        "       -  Here’s why Python makes strings immutable:\n",
        "\n",
        "        **1. Hashing and Dictionary Keys**\n",
        "\n",
        "        * Strings are often used as keys in dictionaries and sets.\n",
        "\n",
        "        * If strings were mutable, their value (and hash) could change after being used as a key → breaking dictionary lookups.\n",
        "\n",
        "        * Immutability ensures that once a string is created, its hash stays constant → safe for dictionary keys.\n",
        "\n",
        "         **2. Performance Optimization**\n",
        "\n",
        "         * Python stores commonly used strings in an internal pool (string interning).\n",
        "\n",
        "         * Example: \"hello\" appearing multiple times in code may point to the same memory location.\n",
        "\n",
        "         * This saves memory and speeds up comparisons.\n",
        "\n",
        "         * This only works if strings are immutable (otherwise, changing one would change all).\n",
        "\n",
        "        **3. Thread-Safety**\n",
        "\n",
        "         * Since strings cannot be changed, multiple parts of a program (even in different threads) can safely use the same string without risk of data corruption.\n",
        "\n",
        "       **4. Predictability and Simplicity**\n",
        "\n",
        "         * Immutability avoids bugs.\n",
        "\n",
        "         * If \"hello\" could be changed to \"h3llo\", any variable referencing \"hello\" would suddenly change too → confusing and dangerous.\n",
        "\n",
        "         * With immutability, you always know a string’s value won’t unexpectedly change.\n",
        "\n",
        " 11.   What advantages do dictionaries offer over lists for certain tasks ?\n",
        "       - Dictionaries are ideal for tasks requiring quick lookups, data mappings, and key-value associations.\n",
        "\n",
        "       - Lists are suitable for ordered collections, sequential processing, and scenarios where the order of elements matters.\n",
        "\n",
        " 12.   Describe a scenario where using a tuple would be preferable over a list ?\n",
        "       - A scenario where using a tuple would be preferable over a list is when representing immutable, fixed collections of related data, such as a record or a set of coordinates.\n",
        "\n",
        "        - Consider a program that stores information about a specific location, including its latitude and longitude. This information, once defined, is unlikely to change during the program's execution.   \n",
        "  \n",
        "\n",
        "\n",
        "\n",
        "\n",
        "\n",
        "\n",
        "\n",
        "\n",
        "        \n",
        "\n",
        "\n",
        "\n"
      ],
      "metadata": {
        "id": "3tXfYVuCb1Ib"
      }
    },
    {
      "cell_type": "code",
      "source": [
        "location_coordinates = (34.0522, -118.2437)"
      ],
      "metadata": {
        "id": "GRFc30OyhgxV"
      },
      "execution_count": null,
      "outputs": []
    },
    {
      "cell_type": "markdown",
      "source": [
        " 13.  How do sets handle duplicate values in Python ?\n",
        "      - Here's how sets handle duplicates in practice:\n",
        "          * **During creation** :  If you create a set from an iterable containing duplicate values, the duplicates will automatically be removed, and only the unique elements will be present in the resulting set.\n",
        "\n",
        "\n",
        "       "
      ],
      "metadata": {
        "id": "XsTBYyKRhm0t"
      }
    },
    {
      "cell_type": "code",
      "source": [
        "my_list = [1, 2, 2, 3, 4, 4, 5]\n",
        "my_set = set(my_list)\n",
        "print(my_set)"
      ],
      "metadata": {
        "colab": {
          "base_uri": "https://localhost:8080/"
        },
        "id": "Jk1VObIvicAl",
        "outputId": "61f96599-9afa-49cb-8313-69cbd1e62ed9"
      },
      "execution_count": null,
      "outputs": [
        {
          "output_type": "stream",
          "name": "stdout",
          "text": [
            "{1, 2, 3, 4, 5}\n"
          ]
        }
      ]
    },
    {
      "cell_type": "markdown",
      "source": [
        " 14.  How does the “in” keyword work differently for lists and dictionaries ?\n",
        "      - The in keyword in Python functions differently for lists and dictionaries primarily in what it searches for and how efficiently it performs that search.\n",
        "\n",
        "        * **For  Lists:**"
      ],
      "metadata": {
        "id": "SPxOCQgsjAbS"
      }
    },
    {
      "cell_type": "code",
      "source": [
        "my_list = [10, 20, 30, 40]\n",
        "print(20 in my_list)\n",
        "print(50 in my_list)"
      ],
      "metadata": {
        "colab": {
          "base_uri": "https://localhost:8080/"
        },
        "id": "TrMS2fsIjjLD",
        "outputId": "075c9c86-d977-4ee4-eb35-dedc3b6e1258"
      },
      "execution_count": null,
      "outputs": [
        {
          "output_type": "stream",
          "name": "stdout",
          "text": [
            "True\n",
            "False\n"
          ]
        }
      ]
    },
    {
      "cell_type": "markdown",
      "source": [
        "\n",
        "  - **For dictionaries :**"
      ],
      "metadata": {
        "id": "uqS6PyA9jqDo"
      }
    },
    {
      "cell_type": "code",
      "source": [
        "my_dict = {\"apple\": 1, \"banana\": 2, \"cherry\": 3}\n",
        "print(\"banana\" in my_dict)\n",
        "print(\"grape\" in my_dict)\n",
        "print(1 in my_dict)"
      ],
      "metadata": {
        "colab": {
          "base_uri": "https://localhost:8080/"
        },
        "id": "y-TOX2d6j8Mn",
        "outputId": "106cdb87-c156-454b-9cb7-f593e192280c"
      },
      "execution_count": null,
      "outputs": [
        {
          "output_type": "stream",
          "name": "stdout",
          "text": [
            "True\n",
            "False\n",
            "False\n"
          ]
        }
      ]
    },
    {
      "cell_type": "markdown",
      "source": [
        " 15.  Can you modify the elements of a tuple? Explain why or why not.\n",
        "      - No, you cannot modify the elements of a tuple in python.\n",
        "\n",
        "      Reasons:\n",
        "\n",
        "        * Tuples are immutable data types, meaning once a tuple is created, its elements cannot be changed, added, or removed.\n",
        "\n",
        "        * This immutability helps make tuples more efficient and safe for use as keys in dictionaries or elements in sets.\n",
        "\n",
        "        Example:\n",
        "        \n",
        "\n",
        "      "
      ],
      "metadata": {
        "id": "imJro2rfkL1r"
      }
    },
    {
      "cell_type": "code",
      "source": [
        "my_tuple = (1,2,3)\n",
        "my_tuple[1] = 10"
      ],
      "metadata": {
        "colab": {
          "base_uri": "https://localhost:8080/",
          "height": 158
        },
        "id": "W7qUUEE7ghaZ",
        "outputId": "b31e2d17-feed-4c8b-ed7f-f1c78b60ebe7"
      },
      "execution_count": null,
      "outputs": [
        {
          "output_type": "error",
          "ename": "TypeError",
          "evalue": "'tuple' object does not support item assignment",
          "traceback": [
            "\u001b[0;31m---------------------------------------------------------------------------\u001b[0m",
            "\u001b[0;31mTypeError\u001b[0m                                 Traceback (most recent call last)",
            "\u001b[0;32m/tmp/ipython-input-1496923209.py\u001b[0m in \u001b[0;36m<cell line: 0>\u001b[0;34m()\u001b[0m\n\u001b[1;32m      1\u001b[0m \u001b[0mmy_tuple\u001b[0m \u001b[0;34m=\u001b[0m \u001b[0;34m(\u001b[0m\u001b[0;36m1\u001b[0m\u001b[0;34m,\u001b[0m\u001b[0;36m2\u001b[0m\u001b[0;34m,\u001b[0m\u001b[0;36m3\u001b[0m\u001b[0;34m)\u001b[0m\u001b[0;34m\u001b[0m\u001b[0;34m\u001b[0m\u001b[0m\n\u001b[0;32m----> 2\u001b[0;31m \u001b[0mmy_tuple\u001b[0m\u001b[0;34m[\u001b[0m\u001b[0;36m1\u001b[0m\u001b[0;34m]\u001b[0m \u001b[0;34m=\u001b[0m \u001b[0;36m10\u001b[0m\u001b[0;34m\u001b[0m\u001b[0;34m\u001b[0m\u001b[0m\n\u001b[0m",
            "\u001b[0;31mTypeError\u001b[0m: 'tuple' object does not support item assignment"
          ]
        }
      ]
    },
    {
      "cell_type": "markdown",
      "source": [
        "  * However, if a tuple contains a muntable object(like a list), the contents of that mutable object can be changed:\n",
        "  "
      ],
      "metadata": {
        "id": "yKUlScVTgsWg"
      }
    },
    {
      "cell_type": "code",
      "source": [
        "my_tuple = (1,[2,3],4)\n",
        "my_tuple [1][0] = 10\n",
        "\n",
        "print(my_tuple)"
      ],
      "metadata": {
        "colab": {
          "base_uri": "https://localhost:8080/"
        },
        "id": "7qJAqHovhG1M",
        "outputId": "6d9b4cf0-a018-4bef-d900-c79032cbf318"
      },
      "execution_count": null,
      "outputs": [
        {
          "output_type": "stream",
          "name": "stdout",
          "text": [
            "(1, [10, 3], 4)\n"
          ]
        }
      ]
    },
    {
      "cell_type": "markdown",
      "source": [
        " 16.   What is a nested dictionary, and give an example of its use case ?\n",
        "       - A nested dictionary is a dictionary where the values associated with some or all of its keys are themselves other dictionaries. This structure allows for the representation of hierarchical or complex data, similar to how records or structs are used in other programming languages.\n",
        "\n",
        "         Example of its Use Case:"
      ],
      "metadata": {
        "id": "t8SxqYFLu-G3"
      }
    },
    {
      "cell_type": "code",
      "source": [
        "employees = {\n",
        "    \"emp001\": {\n",
        "        \"name\": \"Alice Smith\",\n",
        "        \"age\": 30,\n",
        "        \"department\": \"Engineering\",\n",
        "        \"contact\": {\n",
        "            \"email\": \"alice.smith@example.com\",\n",
        "            \"phone\": \"123-456-7890\"\n",
        "        }\n",
        "    },\n",
        "    \"emp002\": {\n",
        "        \"name\": \"Bob Johnson\",\n",
        "        \"age\": 45,\n",
        "        \"department\": \"Marketing\",\n",
        "        \"contact\": {\n",
        "            \"email\": \"bob.j@example.com\",\n",
        "            \"phone\": \"987-654-3210\"\n",
        "        }\n",
        "    }\n",
        "}\n",
        "\n",
        "print(f\"Employee 001's name: {employees['emp001']['name']}\")\n",
        "print(f\"Employee 002's email: {employees['emp002']['contact']['email']}\")\n",
        "\n",
        "employees[\"emp003\"] = {\n",
        "    \"name\": \"Charlie Brown\",\n",
        "    \"age\": 25,\n",
        "    \"department\": \"HR\",\n",
        "    \"contact\": {\n",
        "        \"email\": \"charlie.b@example.com\",\n",
        "        \"phone\": \"555-111-2222\"\n",
        "    }\n",
        "}\n",
        "\n",
        "print(f\"\\nNew employee added: {employees['emp003']['name']}\")"
      ],
      "metadata": {
        "colab": {
          "base_uri": "https://localhost:8080/"
        },
        "id": "-aSJVxxGvZZl",
        "outputId": "adfb08c6-f9c7-489e-87c1-d90cdfb8b763"
      },
      "execution_count": null,
      "outputs": [
        {
          "output_type": "stream",
          "name": "stdout",
          "text": [
            "Employee 001's name: Alice Smith\n",
            "Employee 002's email: bob.j@example.com\n",
            "\n",
            "New employee added: Charlie Brown\n"
          ]
        }
      ]
    },
    {
      "cell_type": "markdown",
      "source": [
        " 17.   Describe the time complexity of accessing elements in a dictionary ?\n",
        "       - Accessing an element in a Python dictionary (using a key) has:\n",
        "\n",
        "           * Average Case: O(1) → Constant time, because dictionaries use hash tables internally. A key’s hash value directly points to its location in memory.\n",
        "\n",
        "           * Worst Case: O(n) → Linear time, but very rare. This can happen if many keys produce the same hash (hash collisions) and are stored in the same bucket.\n",
        "\n",
        " 18.   In what situations are lists preferred over dictionaries ?\n",
        "       - Situations where lists are preferred Over dictionary:\n",
        "\n",
        "           * Ordered Collections.\n",
        "\n",
        "           * Sequential Access and Iteration.\n",
        "\n",
        "           * Managing Tasks where Order Matters.\n",
        "\n",
        "           * Appending and Extending.\n",
        "\n",
        "           * Data where Duplicates are Allowed and Significant.\n",
        "\n",
        " 19.   Why are dictionaries considered unordered, and how does that affect data retrieval  ?\n",
        "       - **Dictionaries are considered unordered :**\n",
        "\n",
        "            * Key-Value Mapping over Sequence.\n",
        "\n",
        "            * No Positional Indexing.\n",
        "\n",
        "            * Historical Context (Python).\n",
        "\n",
        "        - **Effect on Data Retrieval:**\n",
        "\n",
        "            * Access by Key.\n",
        "\n",
        "            * No Order Guarantees (Conceptually).\n",
        "\n",
        "            * Fast Lookups.\n",
        "\n",
        " 20.  Explain the difference between a list and a dictionary in terms of data retrieval ?\n",
        "      - Lists:\n",
        "\n",
        "           * **Ordered Collection:** Lists store elements in a specific, sequential order.\n",
        "\n",
        "           * **Index-Based Retrieval:** Data retrieval in lists relies on numerical indices, which represent the position of an element within the list. Indices start from 0 for the first element.\n",
        "\n",
        "           * **Retrieval Efficiency:** Accessing an element by its index in a list is generally very efficient (O(1) time complexity in most cases), as the memory location can be directly calculated. However, searching for a specific value without knowing its index requires iterating through the list, which can be less efficient (O(n) time complexity).\n",
        "\n",
        "           Example :\n",
        "\n",
        "\n"
      ],
      "metadata": {
        "id": "gCxwq0W_v5gt"
      }
    },
    {
      "cell_type": "code",
      "source": [
        "    my_list = [\"apple\", \"banana\", \"cherry\"]\n",
        "    item = my_list[1]\n",
        "    print(item)"
      ],
      "metadata": {
        "colab": {
          "base_uri": "https://localhost:8080/"
        },
        "id": "4oPXuLvR1GS2",
        "outputId": "d1870f78-8782-47e8-c998-132fd34ef42f"
      },
      "execution_count": null,
      "outputs": [
        {
          "output_type": "stream",
          "name": "stdout",
          "text": [
            "banana\n"
          ]
        }
      ]
    },
    {
      "cell_type": "markdown",
      "source": [
        "   \n",
        "  - Dictionaries :\n",
        "\n",
        "       * **Unordered Collection of Key-Value Pairs:** Dictionaries store data as key-value pairs, where each unique key maps to a specific value.\n",
        "\n",
        "       * **Key-Based Retrieval:** Data retrieval in dictionaries relies on unique keys. To access a value, you provide its corresponding key.\n",
        "\n",
        "       * **Retrieval Efficiency:** Dictionaries typically offer highly efficient retrieval based on keys (average-case O(1) time complexity) due to their use of hashing mechanisms. This allows for quick lookups, insertions, and deletions.\n",
        "\n",
        "         Example :\n"
      ],
      "metadata": {
        "id": "cp2L9rXk1izz"
      }
    },
    {
      "cell_type": "code",
      "source": [
        "    my_dict = {\"name\": \"Alice\", \"age\": 30, \"city\": \"New York\"}\n",
        "    value = my_dict[\"name\"]\n",
        "    value"
      ],
      "metadata": {
        "colab": {
          "base_uri": "https://localhost:8080/",
          "height": 36
        },
        "id": "0oGJUGwC2Q4B",
        "outputId": "b2f1da3e-f3cd-4fa8-bbd1-012b8f906005"
      },
      "execution_count": null,
      "outputs": [
        {
          "output_type": "execute_result",
          "data": {
            "text/plain": [
              "'Alice'"
            ],
            "application/vnd.google.colaboratory.intrinsic+json": {
              "type": "string"
            }
          },
          "metadata": {},
          "execution_count": 20
        }
      ]
    },
    {
      "cell_type": "markdown",
      "source": [
        "**practical Questions**"
      ],
      "metadata": {
        "id": "an3kL3tu2-oC"
      }
    },
    {
      "cell_type": "code",
      "source": [
        "# 1.  Write a code to create a string with your name and print it ?\n",
        "\n",
        "Name = \"Anil Kumar\"\n",
        "print(Name)"
      ],
      "metadata": {
        "colab": {
          "base_uri": "https://localhost:8080/"
        },
        "id": "qF1oSP7R3FRx",
        "outputId": "0b8dd85a-6b66-4b03-8ec1-c20ce1a57a19"
      },
      "execution_count": null,
      "outputs": [
        {
          "output_type": "stream",
          "name": "stdout",
          "text": [
            "Anil Kumar\n"
          ]
        }
      ]
    },
    {
      "cell_type": "code",
      "source": [
        "# 2.  Write a code to find the length of the string \"Hello World\" ?\n",
        "\n",
        "text = \"Hello World\"\n",
        "length = len(text)\n",
        "print(\"Length of the string:\",length)"
      ],
      "metadata": {
        "colab": {
          "base_uri": "https://localhost:8080/"
        },
        "id": "Ikbn5Vv630O-",
        "outputId": "c81be59a-2486-4909-9531-bf53b868577d"
      },
      "execution_count": null,
      "outputs": [
        {
          "output_type": "stream",
          "name": "stdout",
          "text": [
            "Length of the string: 11\n"
          ]
        }
      ]
    },
    {
      "cell_type": "code",
      "source": [
        "# 3.  Write a code to slice the first 3 characters from the string \"Python Programming\" ?\n",
        "\n",
        "text = \"Python Programming\"\n",
        "sliced = text[:3]\n",
        "\n",
        "print(\"First three characters:\",sliced)"
      ],
      "metadata": {
        "colab": {
          "base_uri": "https://localhost:8080/"
        },
        "id": "NYSYvLDN4hv7",
        "outputId": "b740d049-9472-440b-bcac-48d95d819f2f"
      },
      "execution_count": null,
      "outputs": [
        {
          "output_type": "stream",
          "name": "stdout",
          "text": [
            "First three characters: Pyt\n"
          ]
        }
      ]
    },
    {
      "cell_type": "code",
      "source": [
        "# 4.   Write a code to convert the string \"hello\" to uppercase ?\n",
        "\n",
        "text = \"hello\"\n",
        "upper_text = text.upper()\n",
        "\n",
        "print(upper_text)"
      ],
      "metadata": {
        "colab": {
          "base_uri": "https://localhost:8080/"
        },
        "id": "oXKl6Miz5Nop",
        "outputId": "ce51dbd8-5efd-4f41-bae2-db0b3eaa63ca"
      },
      "execution_count": null,
      "outputs": [
        {
          "output_type": "stream",
          "name": "stdout",
          "text": [
            "HELLO\n"
          ]
        }
      ]
    },
    {
      "cell_type": "code",
      "source": [
        "# 5.   Write a code to replace the word \"apple\" with \"orange\" in the string \"I like apple\" ?\n",
        "\n",
        "text = \"I like apple\"\n",
        "new_text = text.replace(\"apple\",\"orange\")\n",
        "\n",
        "print(new_text)"
      ],
      "metadata": {
        "colab": {
          "base_uri": "https://localhost:8080/"
        },
        "id": "-qYJOBcQ5tx4",
        "outputId": "2c2800c0-a066-404b-a843-682238881632"
      },
      "execution_count": null,
      "outputs": [
        {
          "output_type": "stream",
          "name": "stdout",
          "text": [
            "I like orange\n"
          ]
        }
      ]
    },
    {
      "cell_type": "code",
      "source": [
        "# 6.  Write a code to create a list with numbers 1 to 5 and print it ?\n",
        "\n",
        "numbers = [1,2,3,4,5]\n",
        "\n",
        "print(numbers)"
      ],
      "metadata": {
        "colab": {
          "base_uri": "https://localhost:8080/"
        },
        "id": "pJi_yk1B6tfx",
        "outputId": "d9453316-193d-4cc9-9d67-65ce91e7e351"
      },
      "execution_count": null,
      "outputs": [
        {
          "output_type": "stream",
          "name": "stdout",
          "text": [
            "[1, 2, 3, 4, 5]\n"
          ]
        }
      ]
    },
    {
      "cell_type": "code",
      "source": [
        "# 7.   Write a code to append the number 10 to the list [1, 2, 3, 4] ?\n",
        "\n",
        "numbers = [1,2,3,4]\n",
        "numbers.append(10)\n",
        "\n",
        "print(numbers)"
      ],
      "metadata": {
        "colab": {
          "base_uri": "https://localhost:8080/"
        },
        "id": "s2eLEO_e7RQ1",
        "outputId": "752e16dc-99cd-4113-a3aa-038c2c7162ac"
      },
      "execution_count": null,
      "outputs": [
        {
          "output_type": "stream",
          "name": "stdout",
          "text": [
            "[1, 2, 3, 4, 10]\n"
          ]
        }
      ]
    },
    {
      "cell_type": "code",
      "source": [
        "# 8.  Write a code to remove the number 3 from the list [1, 2, 3, 4, 5] ?\n",
        "\n",
        "numbers = [1,2,3,4,5]\n",
        "numbers.remove(3)\n",
        "print(numbers)"
      ],
      "metadata": {
        "colab": {
          "base_uri": "https://localhost:8080/"
        },
        "id": "Ldz23Hdk8xaw",
        "outputId": "e9b1625a-7ad1-4c3f-a426-a431d6192680"
      },
      "execution_count": null,
      "outputs": [
        {
          "output_type": "stream",
          "name": "stdout",
          "text": [
            "[1, 2, 4, 5]\n"
          ]
        }
      ]
    },
    {
      "cell_type": "code",
      "source": [
        "# 9.  Write a code to access the second element in the list ['a', 'b', 'c', 'd'] ?\n",
        "\n",
        "letters = ['a','b','c','d']\n",
        "new_letters = letters[1]\n",
        "\n",
        "print(new_letters)\n"
      ],
      "metadata": {
        "colab": {
          "base_uri": "https://localhost:8080/"
        },
        "id": "5JG99xGv9wVJ",
        "outputId": "15e1aa3d-14ca-40ba-8b41-34d6b9b08866"
      },
      "execution_count": null,
      "outputs": [
        {
          "output_type": "stream",
          "name": "stdout",
          "text": [
            "b\n"
          ]
        }
      ]
    },
    {
      "cell_type": "code",
      "source": [
        "# 10.   Write a code to reverse the list [10, 20, 30, 40, 50] ?\n",
        "\n",
        "numbers = [10,20,30,40,50]\n",
        "numbers.reverse()\n",
        "print(numbers)"
      ],
      "metadata": {
        "colab": {
          "base_uri": "https://localhost:8080/"
        },
        "id": "FmpdbaSF-yA1",
        "outputId": "b1f86d61-433a-4d8d-f9a9-63cc38699f3c"
      },
      "execution_count": null,
      "outputs": [
        {
          "output_type": "stream",
          "name": "stdout",
          "text": [
            "[50, 40, 30, 20, 10]\n"
          ]
        }
      ]
    },
    {
      "cell_type": "code",
      "source": [
        "# 11.   Write a code to create a tuple with the elements 100, 200, 300 and print it ?\n",
        "\n",
        "numbers = (100,200,300)\n",
        "print(numbers)"
      ],
      "metadata": {
        "colab": {
          "base_uri": "https://localhost:8080/"
        },
        "id": "xVCOdLrz_ijQ",
        "outputId": "a43abc49-2602-46a9-c067-6f855aa2c89e"
      },
      "execution_count": null,
      "outputs": [
        {
          "output_type": "stream",
          "name": "stdout",
          "text": [
            "(100, 200, 300)\n"
          ]
        }
      ]
    },
    {
      "cell_type": "code",
      "source": [
        "# 12.   Write a code to access the second-to-last element of the tuple ('red', 'green', 'blue', 'yellow') ?\n",
        "\n",
        "colours = ('red','green','blue','yellow')\n",
        "second_to_last = colours[-2]\n",
        "\n",
        "print(second_to_last)"
      ],
      "metadata": {
        "colab": {
          "base_uri": "https://localhost:8080/"
        },
        "id": "x6T8d24M_6EK",
        "outputId": "53d3e4d7-542a-46d4-b9c9-9614a196fc65"
      },
      "execution_count": null,
      "outputs": [
        {
          "output_type": "stream",
          "name": "stdout",
          "text": [
            "blue\n"
          ]
        }
      ]
    },
    {
      "cell_type": "code",
      "source": [
        "# 13.  Write a code to find the minimum number in the tuple (10, 20, 5, 15).?\n",
        "\n",
        "numbers = (10,20,5,15)\n",
        "minimum = min(numbers)\n",
        "\n",
        "print(\"Minimum_number:\",minimum)"
      ],
      "metadata": {
        "colab": {
          "base_uri": "https://localhost:8080/"
        },
        "id": "hVbgNXIeA7Pe",
        "outputId": "482ebbb1-1930-4e02-ed89-09d0c4641599"
      },
      "execution_count": null,
      "outputs": [
        {
          "output_type": "stream",
          "name": "stdout",
          "text": [
            "Minimum_number: 5\n"
          ]
        }
      ]
    },
    {
      "cell_type": "code",
      "source": [
        "# 14.   Write a code to find the index of the element \"cat\" in the tuple ('dog', 'cat', 'rabbit').?\n",
        "\n",
        "animals = ('dog','cat','rabbit')\n",
        "index = animals.index('cat')\n",
        "\n",
        "print(\"Index of the 'cat':\",index)"
      ],
      "metadata": {
        "colab": {
          "base_uri": "https://localhost:8080/"
        },
        "id": "4akbbiZIBgFM",
        "outputId": "cc134949-2b66-4ca1-8a82-35244f89354d"
      },
      "execution_count": null,
      "outputs": [
        {
          "output_type": "stream",
          "name": "stdout",
          "text": [
            "Index of the 'cat': 1\n"
          ]
        }
      ]
    },
    {
      "cell_type": "code",
      "source": [
        "# 15.  Write a code to create a tuple containing three different fruits and check if \"kiwi\" is in it.?\n",
        "\n",
        "fruits = ('apple','kiwi','orange')\n",
        "is_kiwi_present = \"kiwi\"in fruits\n",
        "\n",
        "print(\"Is 'kiwi'in the tuple?\",is_kiwi_present)"
      ],
      "metadata": {
        "colab": {
          "base_uri": "https://localhost:8080/"
        },
        "id": "Y88bRiY9Cd4m",
        "outputId": "46e9096a-1b14-4d13-f3fa-e86e2c56a704"
      },
      "execution_count": null,
      "outputs": [
        {
          "output_type": "stream",
          "name": "stdout",
          "text": [
            "Is 'kiwi'in the tuple? True\n"
          ]
        }
      ]
    },
    {
      "cell_type": "code",
      "source": [
        "# 16.  Write a code to create a set with the elements 'a', 'b', 'c' and print it.?\n",
        "\n",
        "letters = {'a','b','c'}\n",
        "print(letters)"
      ],
      "metadata": {
        "colab": {
          "base_uri": "https://localhost:8080/"
        },
        "id": "WClSEiRpD0qx",
        "outputId": "c20f08e6-69b4-48f9-9c02-a0559c9dddc9"
      },
      "execution_count": null,
      "outputs": [
        {
          "output_type": "stream",
          "name": "stdout",
          "text": [
            "{'a', 'c', 'b'}\n"
          ]
        }
      ]
    },
    {
      "cell_type": "code",
      "source": [
        "# 17.   Write a code to clear all elements from the set {1, 2, 3, 4, 5}.?\n",
        "\n",
        "numbers = {1,2,3,4,5}\n",
        "numbers.clear()\n",
        "\n",
        "print(numbers)"
      ],
      "metadata": {
        "colab": {
          "base_uri": "https://localhost:8080/"
        },
        "id": "jbI2E9bfElWe",
        "outputId": "be31590e-50d9-490e-b723-09f01fe43828"
      },
      "execution_count": null,
      "outputs": [
        {
          "output_type": "stream",
          "name": "stdout",
          "text": [
            "set()\n"
          ]
        }
      ]
    },
    {
      "cell_type": "code",
      "source": [
        "# 18.  Write a code to remove the element 4 from the set {1, 2, 3, 4}.?\n",
        "\n",
        "numbers = {1,2,3,4}\n",
        "numbers.remove(4)\n",
        "\n",
        "print(numbers)"
      ],
      "metadata": {
        "colab": {
          "base_uri": "https://localhost:8080/"
        },
        "id": "6Z4BZklAFfv4",
        "outputId": "4ddba9d9-7b7c-4271-c6c5-aa4a7ef9fa0e"
      },
      "execution_count": null,
      "outputs": [
        {
          "output_type": "stream",
          "name": "stdout",
          "text": [
            "{1, 2, 3}\n"
          ]
        }
      ]
    },
    {
      "cell_type": "code",
      "source": [
        "# 19.  Write a code to find the union of two sets {1, 2, 3} and {3, 4, 5}.\n",
        "\n",
        "set1 = {1,2,3}\n",
        "set2 = {3,4,5}\n",
        "\n",
        "union_set = set1.union(set2)\n",
        "print(union_set)"
      ],
      "metadata": {
        "colab": {
          "base_uri": "https://localhost:8080/"
        },
        "id": "hj3EnTpuGA1x",
        "outputId": "cd6c3df7-05c2-48a1-8900-c8cbf18c08dc"
      },
      "execution_count": null,
      "outputs": [
        {
          "output_type": "stream",
          "name": "stdout",
          "text": [
            "{1, 2, 3, 4, 5}\n"
          ]
        }
      ]
    },
    {
      "cell_type": "code",
      "source": [
        "# 20.  Write a code to find the intersection of two sets {1, 2, 3} and {2, 3, 4}.?\n",
        "\n",
        "\n",
        "set1 = {1,2,3}\n",
        "set2 = {3,4,5}\n",
        "\n",
        "intersection_set = set1.intersection(set2)\n",
        "print(intersection_set)\n"
      ],
      "metadata": {
        "colab": {
          "base_uri": "https://localhost:8080/"
        },
        "id": "BAv-N-A-GlKS",
        "outputId": "3b7fe49c-02a3-4b51-cb62-11eda94e61b1"
      },
      "execution_count": null,
      "outputs": [
        {
          "output_type": "stream",
          "name": "stdout",
          "text": [
            "{3}\n"
          ]
        }
      ]
    },
    {
      "cell_type": "code",
      "source": [
        "# 21.   Write a code to create a dictionary with the keys \"name\", \"age\", and \"city\", and print it ?\n",
        "\n",
        "person = {\n",
        "    \"name\": \"Anil\",\n",
        "    \"age\": 23,\n",
        "    \"city\": \"Hopset\"\n",
        "}\n",
        "\n",
        "print(person)"
      ],
      "metadata": {
        "colab": {
          "base_uri": "https://localhost:8080/"
        },
        "id": "GAESd2dsG6xf",
        "outputId": "59693ece-59ec-4ae6-d277-ce377a212d48"
      },
      "execution_count": null,
      "outputs": [
        {
          "output_type": "stream",
          "name": "stdout",
          "text": [
            "{'name': 'Anil', 'age': 23, 'city': 'Hopset'}\n"
          ]
        }
      ]
    },
    {
      "cell_type": "code",
      "source": [
        "\n",
        "# 22.  Write a code to add a new key-value pair \"country\": \"USA\" to the dictionary {'name': 'John', 'age': 25}.\n",
        "\n",
        "person = {'name': 'John', 'age': 25}\n",
        "person['country'] = 'USA'\n",
        "\n",
        "print(person)"
      ],
      "metadata": {
        "colab": {
          "base_uri": "https://localhost:8080/"
        },
        "id": "oIqwc5N_HxIQ",
        "outputId": "ee56c996-0a4a-4e2d-a3c6-f74a488a03dd"
      },
      "execution_count": null,
      "outputs": [
        {
          "output_type": "stream",
          "name": "stdout",
          "text": [
            "{'name': 'John', 'age': 25, 'country': 'USA'}\n"
          ]
        }
      ]
    },
    {
      "cell_type": "code",
      "source": [
        "# 23.  Write a code to access the value associated with the key \"name\" in the dictionary {'name': 'Alice', 'age': 30}.\n",
        "\n",
        "person = {'name': 'Alice', 'age':30}\n",
        "name_value = person['name']\n",
        "print(name_value)"
      ],
      "metadata": {
        "colab": {
          "base_uri": "https://localhost:8080/"
        },
        "id": "eMHD806FI0Ad",
        "outputId": "d2842911-78de-4c12-d064-5087d1f02c03"
      },
      "execution_count": null,
      "outputs": [
        {
          "output_type": "stream",
          "name": "stdout",
          "text": [
            "Alice\n"
          ]
        }
      ]
    },
    {
      "cell_type": "code",
      "source": [
        "# 24.  Write a code to remove the key \"age\" from the dictionary {'name': 'Bob', 'age': 22, 'city': 'New York'}.?\n",
        "\n",
        "Person = {'name': 'Bob','age': 22, 'city': 'New York'}\n",
        "Person.pop('age')\n",
        "print(Person)"
      ],
      "metadata": {
        "colab": {
          "base_uri": "https://localhost:8080/"
        },
        "id": "1r-r8M9cmYjL",
        "outputId": "0d919d62-9bda-4292-f493-a2362746cde0"
      },
      "execution_count": null,
      "outputs": [
        {
          "output_type": "stream",
          "name": "stdout",
          "text": [
            "{'name': 'Bob', 'city': 'New York'}\n"
          ]
        }
      ]
    },
    {
      "cell_type": "code",
      "source": [
        "# 25.  Write a code to check if the key \"city\" exists in the dictionary {'name': 'Alice', 'city': 'Paris'}.?\n",
        "\n",
        "person = {'name': 'Alice', 'city': 'paris'}\n",
        "if 'city' in person:\n",
        "  print(\"key 'city' exists in the dictionary\")\n",
        "else:\n",
        "  print(\"key 'city' does not exist in the dictionary\")"
      ],
      "metadata": {
        "colab": {
          "base_uri": "https://localhost:8080/"
        },
        "id": "YTH4pTsUnvxo",
        "outputId": "424a15a8-935c-4613-8d54-85a700d916c6"
      },
      "execution_count": null,
      "outputs": [
        {
          "output_type": "stream",
          "name": "stdout",
          "text": [
            "key 'city' exists in the dictionary\n"
          ]
        }
      ]
    },
    {
      "cell_type": "code",
      "source": [
        "# 26.   Write a code to create a list, a tuple, and a dictionary, and print them all.?\n",
        "\n",
        "my_list = [1,2,3,4,5]\n",
        "\n",
        "my_tuple = ('apple', 'banana', 'cherry')\n",
        "\n",
        "my_dict = {'name': 'John', 'age': 23, 'city': 'London'}\n",
        "\n",
        "print(\"List:\", my_list)\n",
        "print(\"Tuple:\", my_tuple)\n",
        "print(\"Dictionary:\", my_dict)"
      ],
      "metadata": {
        "colab": {
          "base_uri": "https://localhost:8080/"
        },
        "id": "5D8zqyPro516",
        "outputId": "f06280d1-65c6-4544-b4a9-df6f43356ca2"
      },
      "execution_count": null,
      "outputs": [
        {
          "output_type": "stream",
          "name": "stdout",
          "text": [
            "List: [1, 2, 3, 4, 5]\n",
            "Tuple: ('apple', 'banana', 'cherry')\n",
            "Dictionary: {'name': 'John', 'age': 23, 'city': 'London'}\n"
          ]
        }
      ]
    },
    {
      "cell_type": "code",
      "source": [
        "# 27.  Write a code to create a list of 5 random numbers between 1 and 100, sort it in ascending order, and print the result (replaced)\n",
        "\n",
        "import random\n",
        "\n",
        "numbers = [random.randint(1,100) for _ in range(5)]\n",
        "numbers.sort()\n",
        "print(\"sorted_list:\" , numbers)"
      ],
      "metadata": {
        "colab": {
          "base_uri": "https://localhost:8080/"
        },
        "id": "18g-8cC3qJod",
        "outputId": "d5c74bb2-0962-419e-83dd-e6c177ee21eb"
      },
      "execution_count": null,
      "outputs": [
        {
          "output_type": "stream",
          "name": "stdout",
          "text": [
            "sorted_list: [45, 56, 80, 96, 99]\n"
          ]
        }
      ]
    },
    {
      "cell_type": "code",
      "source": [
        "# 28.   Write a code to create a list with strings and print the element at the third index.?\n",
        "\n",
        "fruits = [\"apple\", \"banana\",\"cherry\", \"mango\", \"orange\"]\n",
        "print(\"Element at index 3:\", fruits[3])"
      ],
      "metadata": {
        "colab": {
          "base_uri": "https://localhost:8080/"
        },
        "id": "f3h2J9EjsVS_",
        "outputId": "4121598a-7154-439b-c584-b43bc6c77be1"
      },
      "execution_count": null,
      "outputs": [
        {
          "output_type": "stream",
          "name": "stdout",
          "text": [
            "Element at index 3: mango\n"
          ]
        }
      ]
    },
    {
      "cell_type": "code",
      "source": [
        "# 29.  Write a code to combine two dictionaries into one and print the result.?\n",
        "\n",
        "dict1 = {'a': 1, 'b': 2}\n",
        "dict2 = {'c': 3, 'd': 4}\n",
        "\n",
        "combined_dict = {**dict1, **dict2}\n",
        "\n",
        "print(combined_dict)"
      ],
      "metadata": {
        "colab": {
          "base_uri": "https://localhost:8080/"
        },
        "id": "pUJs1ecDdrxd",
        "outputId": "ea291e9e-4650-49cf-84e3-9eb4e5eba631"
      },
      "execution_count": null,
      "outputs": [
        {
          "output_type": "stream",
          "name": "stdout",
          "text": [
            "{'a': 1, 'b': 2, 'c': 3, 'd': 4}\n"
          ]
        }
      ]
    },
    {
      "cell_type": "code",
      "source": [
        "# 30.   Write a code to convert a list of strings into a set ?\n",
        "\n",
        "string_list = [\"apple\",\"banana\",\"cherry\",\"apple\",\"banana\"]\n",
        "\n",
        "string_set = set(string_list)\n",
        "print(string_set)"
      ],
      "metadata": {
        "colab": {
          "base_uri": "https://localhost:8080/"
        },
        "id": "TzloMMIBe0xq",
        "outputId": "8d1b7703-ec1f-4676-ad11-33deb74d4c3a"
      },
      "execution_count": null,
      "outputs": [
        {
          "output_type": "stream",
          "name": "stdout",
          "text": [
            "{'banana', 'cherry', 'apple'}\n"
          ]
        }
      ]
    },
    {
      "cell_type": "markdown",
      "source": [
        "             \n",
        "\n",
        "\n",
        "\n"
      ],
      "metadata": {
        "id": "-Od3sbn7iomY"
      }
    },
    {
      "cell_type": "markdown",
      "source": [],
      "metadata": {
        "id": "_t76OUv0qGLA"
      }
    }
  ]
}